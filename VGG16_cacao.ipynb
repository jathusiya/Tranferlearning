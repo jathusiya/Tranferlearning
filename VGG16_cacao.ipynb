{
  "nbformat": 4,
  "nbformat_minor": 0,
  "metadata": {
    "colab": {
      "provenance": []
    },
    "kernelspec": {
      "name": "python3",
      "display_name": "Python 3"
    },
    "language_info": {
      "name": "python"
    },
    "accelerator": "GPU",
    "gpuClass": "standard"
  },
  "cells": [
    {
      "cell_type": "code",
      "execution_count": 1,
      "metadata": {
        "id": "aB_AAmWHkOPr",
        "colab": {
          "base_uri": "https://localhost:8080/"
        },
        "outputId": "944763e4-b1eb-4c94-c403-e42af4414967"
      },
      "outputs": [
        {
          "output_type": "stream",
          "name": "stdout",
          "text": [
            "Drive already mounted at /content/drive; to attempt to forcibly remount, call drive.mount(\"/content/drive\", force_remount=True).\n"
          ]
        }
      ],
      "source": [
        "from google.colab import drive\n",
        "drive.mount('/content/drive')"
      ]
    },
    {
      "cell_type": "code",
      "source": [
        "import tensorflow as tf\n",
        "import tensorflow.keras\n",
        "import matplotlib.pyplot as plt\n",
        "import numpy as np\n",
        "from tensorflow.keras.models import Sequential\n",
        "from tensorflow.keras.layers import Dense, Activation, Dropout, Flatten,Conv2D, MaxPooling2D,BatchNormalization\n",
        "from tensorflow.keras.preprocessing import image\n",
        "from tensorflow.keras.preprocessing.image import ImageDataGenerator, load_img\n",
        "from glob import glob\n",
        "from tensorflow.keras.optimizers import Adam , SGD\n",
        "from tensorflow.keras.applications.vgg16 import VGG16\n",
        "from tensorflow.keras.models import Model"
      ],
      "metadata": {
        "id": "dskCQ9UokPid"
      },
      "execution_count": 2,
      "outputs": []
    },
    {
      "cell_type": "code",
      "source": [
        "pip install split-folders tqdm"
      ],
      "metadata": {
        "id": "vzV5OWl-kSda",
        "colab": {
          "base_uri": "https://localhost:8080/"
        },
        "outputId": "55d2d066-a2c8-423d-ab37-5c4677a9a27e"
      },
      "execution_count": 3,
      "outputs": [
        {
          "output_type": "stream",
          "name": "stdout",
          "text": [
            "Looking in indexes: https://pypi.org/simple, https://us-python.pkg.dev/colab-wheels/public/simple/\n",
            "Requirement already satisfied: split-folders in /usr/local/lib/python3.8/dist-packages (0.5.1)\n",
            "Requirement already satisfied: tqdm in /usr/local/lib/python3.8/dist-packages (4.64.1)\n"
          ]
        }
      ]
    },
    {
      "cell_type": "code",
      "source": [
        "# import splitfolders\n",
        "# splitfolders.ratio('/content/drive/MyDrive/ResearchAgument/Train', output=\"/content/drive/MyDrive/ResearchAgument/split\", seed=1337, ratio=(0.8, 0.1,0.1)) "
      ],
      "metadata": {
        "id": "ubB-AaeakYHI"
      },
      "execution_count": 4,
      "outputs": []
    },
    {
      "cell_type": "code",
      "source": [
        "folders_tes = glob('/content/drive/MyDrive/ResearchAgument/split/test/*')\n",
        "folders_tes"
      ],
      "metadata": {
        "id": "72GMw01Lkdi_",
        "colab": {
          "base_uri": "https://localhost:8080/"
        },
        "outputId": "4d6b7c08-2d62-4219-e59e-ae0efaa8f52c"
      },
      "execution_count": 5,
      "outputs": [
        {
          "output_type": "execute_result",
          "data": {
            "text/plain": [
              "['/content/drive/MyDrive/ResearchAgument/split/test/Tea_Gray_Light',\n",
              " '/content/drive/MyDrive/ResearchAgument/split/test/Tea_Healthy',\n",
              " '/content/drive/MyDrive/ResearchAgument/split/test/Tea_Brown_Blight',\n",
              " '/content/drive/MyDrive/ResearchAgument/split/test/Cotton_Fussarium_Wilt',\n",
              " '/content/drive/MyDrive/ResearchAgument/split/test/Tea_Anthracnose',\n",
              " '/content/drive/MyDrive/ResearchAgument/split/test/Tea_Algal_Leaf',\n",
              " '/content/drive/MyDrive/ResearchAgument/split/test/Tea_Red_Leaf_Spot',\n",
              " '/content/drive/MyDrive/ResearchAgument/split/test/Tea_White _Spot',\n",
              " '/content/drive/MyDrive/ResearchAgument/split/test/Tea_Bird_Eye_Spot',\n",
              " '/content/drive/MyDrive/ResearchAgument/split/test/Cotton_Healthy',\n",
              " '/content/drive/MyDrive/ResearchAgument/split/test/Cotton_Bacterial_Blight',\n",
              " '/content/drive/MyDrive/ResearchAgument/split/test/Cotton_Curl_Virus',\n",
              " '/content/drive/MyDrive/ResearchAgument/split/test/Cocoa_Podborer',\n",
              " '/content/drive/MyDrive/ResearchAgument/split/test/Corn_Blight',\n",
              " '/content/drive/MyDrive/ResearchAgument/split/test/Corn_Common_Rust',\n",
              " '/content/drive/MyDrive/ResearchAgument/split/test/Corn_Gray_Spot',\n",
              " '/content/drive/MyDrive/ResearchAgument/split/test/Cocoa_Health',\n",
              " '/content/drive/MyDrive/ResearchAgument/split/test/Corn_Health',\n",
              " '/content/drive/MyDrive/ResearchAgument/split/test/Cocoa_Black_Podrot']"
            ]
          },
          "metadata": {},
          "execution_count": 5
        }
      ]
    },
    {
      "cell_type": "code",
      "source": [
        "folders_val = glob('/content/drive/MyDrive/ResearchAgument/split/val/*')\n",
        "folders_val"
      ],
      "metadata": {
        "id": "Z6xCf1igkiUh",
        "colab": {
          "base_uri": "https://localhost:8080/"
        },
        "outputId": "eab36be7-f1fc-4b77-d308-9d668504eb44"
      },
      "execution_count": 6,
      "outputs": [
        {
          "output_type": "execute_result",
          "data": {
            "text/plain": [
              "['/content/drive/MyDrive/ResearchAgument/split/val/Tea_Gray_Light',\n",
              " '/content/drive/MyDrive/ResearchAgument/split/val/Tea_Healthy',\n",
              " '/content/drive/MyDrive/ResearchAgument/split/val/Tea_Brown_Blight',\n",
              " '/content/drive/MyDrive/ResearchAgument/split/val/Cotton_Fussarium_Wilt',\n",
              " '/content/drive/MyDrive/ResearchAgument/split/val/Tea_Anthracnose',\n",
              " '/content/drive/MyDrive/ResearchAgument/split/val/Tea_Algal_Leaf',\n",
              " '/content/drive/MyDrive/ResearchAgument/split/val/Tea_Red_Leaf_Spot',\n",
              " '/content/drive/MyDrive/ResearchAgument/split/val/Tea_White _Spot',\n",
              " '/content/drive/MyDrive/ResearchAgument/split/val/Tea_Bird_Eye_Spot',\n",
              " '/content/drive/MyDrive/ResearchAgument/split/val/Cotton_Healthy',\n",
              " '/content/drive/MyDrive/ResearchAgument/split/val/Cotton_Bacterial_Blight',\n",
              " '/content/drive/MyDrive/ResearchAgument/split/val/Cotton_Curl_Virus',\n",
              " '/content/drive/MyDrive/ResearchAgument/split/val/Cocoa_Podborer',\n",
              " '/content/drive/MyDrive/ResearchAgument/split/val/Corn_Blight',\n",
              " '/content/drive/MyDrive/ResearchAgument/split/val/Corn_Common_Rust',\n",
              " '/content/drive/MyDrive/ResearchAgument/split/val/Corn_Gray_Spot',\n",
              " '/content/drive/MyDrive/ResearchAgument/split/val/Cocoa_Health',\n",
              " '/content/drive/MyDrive/ResearchAgument/split/val/Corn_Health',\n",
              " '/content/drive/MyDrive/ResearchAgument/split/val/Cocoa_Black_Podrot']"
            ]
          },
          "metadata": {},
          "execution_count": 6
        }
      ]
    },
    {
      "cell_type": "code",
      "source": [
        "Image_Size = (160, 160)\n",
        "vgg = VGG16(input_shape= (160, 160,3),weights='imagenet',include_top=False)"
      ],
      "metadata": {
        "id": "SzGIHp2wkl91"
      },
      "execution_count": 7,
      "outputs": []
    },
    {
      "cell_type": "code",
      "source": [
        "for layer in vgg.layers:\n",
        "  layer.trainable = False"
      ],
      "metadata": {
        "id": "gEeR0uNxkq-q"
      },
      "execution_count": 8,
      "outputs": []
    },
    {
      "cell_type": "code",
      "source": [
        "x = Flatten()(vgg.output)"
      ],
      "metadata": {
        "id": "1jB7JaNRkvIM"
      },
      "execution_count": 9,
      "outputs": []
    },
    {
      "cell_type": "code",
      "source": [
        "folders_tr = glob('/content/drive/MyDrive/ResearchAgument/split/train/*')\n",
        "folders_tr"
      ],
      "metadata": {
        "colab": {
          "base_uri": "https://localhost:8080/"
        },
        "id": "jguaGPrY9WCD",
        "outputId": "336d3211-cc4b-4c7f-e28e-5101a097d468"
      },
      "execution_count": 10,
      "outputs": [
        {
          "output_type": "execute_result",
          "data": {
            "text/plain": [
              "['/content/drive/MyDrive/ResearchAgument/split/train/Tea_Gray_Light',\n",
              " '/content/drive/MyDrive/ResearchAgument/split/train/Tea_Healthy',\n",
              " '/content/drive/MyDrive/ResearchAgument/split/train/Tea_Brown_Blight',\n",
              " '/content/drive/MyDrive/ResearchAgument/split/train/Cotton_Fussarium_Wilt',\n",
              " '/content/drive/MyDrive/ResearchAgument/split/train/Tea_Anthracnose',\n",
              " '/content/drive/MyDrive/ResearchAgument/split/train/Tea_Algal_Leaf',\n",
              " '/content/drive/MyDrive/ResearchAgument/split/train/Tea_Red_Leaf_Spot',\n",
              " '/content/drive/MyDrive/ResearchAgument/split/train/Tea_White _Spot',\n",
              " '/content/drive/MyDrive/ResearchAgument/split/train/Tea_Bird_Eye_Spot',\n",
              " '/content/drive/MyDrive/ResearchAgument/split/train/Cotton_Healthy',\n",
              " '/content/drive/MyDrive/ResearchAgument/split/train/Cotton_Bacterial_Blight',\n",
              " '/content/drive/MyDrive/ResearchAgument/split/train/Cotton_Curl_Virus',\n",
              " '/content/drive/MyDrive/ResearchAgument/split/train/Cocoa_Podborer',\n",
              " '/content/drive/MyDrive/ResearchAgument/split/train/Corn_Blight',\n",
              " '/content/drive/MyDrive/ResearchAgument/split/train/Corn_Common_Rust',\n",
              " '/content/drive/MyDrive/ResearchAgument/split/train/Corn_Gray_Spot',\n",
              " '/content/drive/MyDrive/ResearchAgument/split/train/Cocoa_Health',\n",
              " '/content/drive/MyDrive/ResearchAgument/split/train/Corn_Health',\n",
              " '/content/drive/MyDrive/ResearchAgument/split/train/Cocoa_Black_Podrot']"
            ]
          },
          "metadata": {},
          "execution_count": 10
        }
      ]
    },
    {
      "cell_type": "code",
      "source": [
        "prediction = Dense(len(folders_tr),activation='softmax')(x)"
      ],
      "metadata": {
        "id": "PB3KkJTzkyDu"
      },
      "execution_count": 11,
      "outputs": []
    },
    {
      "cell_type": "code",
      "source": [
        "model = Model(inputs=vgg.input, outputs=prediction)"
      ],
      "metadata": {
        "id": "sD2c8pqRk056"
      },
      "execution_count": 12,
      "outputs": []
    },
    {
      "cell_type": "code",
      "source": [
        "model.summary()"
      ],
      "metadata": {
        "id": "ECUGICmrk41d",
        "colab": {
          "base_uri": "https://localhost:8080/"
        },
        "outputId": "15e4c936-cbdb-4869-cb78-47adb99b9a0a"
      },
      "execution_count": 13,
      "outputs": [
        {
          "output_type": "stream",
          "name": "stdout",
          "text": [
            "Model: \"model\"\n",
            "_________________________________________________________________\n",
            " Layer (type)                Output Shape              Param #   \n",
            "=================================================================\n",
            " input_1 (InputLayer)        [(None, 160, 160, 3)]     0         \n",
            "                                                                 \n",
            " block1_conv1 (Conv2D)       (None, 160, 160, 64)      1792      \n",
            "                                                                 \n",
            " block1_conv2 (Conv2D)       (None, 160, 160, 64)      36928     \n",
            "                                                                 \n",
            " block1_pool (MaxPooling2D)  (None, 80, 80, 64)        0         \n",
            "                                                                 \n",
            " block2_conv1 (Conv2D)       (None, 80, 80, 128)       73856     \n",
            "                                                                 \n",
            " block2_conv2 (Conv2D)       (None, 80, 80, 128)       147584    \n",
            "                                                                 \n",
            " block2_pool (MaxPooling2D)  (None, 40, 40, 128)       0         \n",
            "                                                                 \n",
            " block3_conv1 (Conv2D)       (None, 40, 40, 256)       295168    \n",
            "                                                                 \n",
            " block3_conv2 (Conv2D)       (None, 40, 40, 256)       590080    \n",
            "                                                                 \n",
            " block3_conv3 (Conv2D)       (None, 40, 40, 256)       590080    \n",
            "                                                                 \n",
            " block3_pool (MaxPooling2D)  (None, 20, 20, 256)       0         \n",
            "                                                                 \n",
            " block4_conv1 (Conv2D)       (None, 20, 20, 512)       1180160   \n",
            "                                                                 \n",
            " block4_conv2 (Conv2D)       (None, 20, 20, 512)       2359808   \n",
            "                                                                 \n",
            " block4_conv3 (Conv2D)       (None, 20, 20, 512)       2359808   \n",
            "                                                                 \n",
            " block4_pool (MaxPooling2D)  (None, 10, 10, 512)       0         \n",
            "                                                                 \n",
            " block5_conv1 (Conv2D)       (None, 10, 10, 512)       2359808   \n",
            "                                                                 \n",
            " block5_conv2 (Conv2D)       (None, 10, 10, 512)       2359808   \n",
            "                                                                 \n",
            " block5_conv3 (Conv2D)       (None, 10, 10, 512)       2359808   \n",
            "                                                                 \n",
            " block5_pool (MaxPooling2D)  (None, 5, 5, 512)         0         \n",
            "                                                                 \n",
            " flatten (Flatten)           (None, 12800)             0         \n",
            "                                                                 \n",
            " dense (Dense)               (None, 19)                243219    \n",
            "                                                                 \n",
            "=================================================================\n",
            "Total params: 14,957,907\n",
            "Trainable params: 243,219\n",
            "Non-trainable params: 14,714,688\n",
            "_________________________________________________________________\n"
          ]
        }
      ]
    },
    {
      "cell_type": "code",
      "source": [
        "model.compile(\n",
        "    loss='categorical_crossentropy',\n",
        "    optimizer='adam',\n",
        "    metrics=['accuracy'])"
      ],
      "metadata": {
        "id": "ydPDpwtFk8rG"
      },
      "execution_count": 14,
      "outputs": []
    },
    {
      "cell_type": "code",
      "source": [
        "train_datagen = ImageDataGenerator(rescale= 1./255,\n",
        "                        rotation_range=10,\n",
        "                         width_shift_range=0.2,\n",
        "                         height_shift_range=0.2,\n",
        "                         shear_range=0.2,\n",
        "                         zoom_range=0.2,\n",
        "                         fill_mode='nearest',\n",
        "                         horizontal_flip=True)\n",
        "\n",
        "valid_datagen = ImageDataGenerator(rescale= 1./255)"
      ],
      "metadata": {
        "id": "ZIHJ-zCFlDhb"
      },
      "execution_count": 15,
      "outputs": []
    },
    {
      "cell_type": "code",
      "source": [
        "train_path='/content/drive/MyDrive/ResearchAgument/split/train'\n",
        "valid_path='/content/drive/MyDrive/ResearchAgument/split/val'"
      ],
      "metadata": {
        "id": "ZHHyXUfx9qFF"
      },
      "execution_count": 16,
      "outputs": []
    },
    {
      "cell_type": "code",
      "source": [
        "training_set = train_datagen.flow_from_directory(train_path,\n",
        "                                                 target_size = Image_Size,\n",
        "                                                 batch_size =32,\n",
        "                                                 class_mode = 'categorical')"
      ],
      "metadata": {
        "id": "wH05eC5AlEl4",
        "colab": {
          "base_uri": "https://localhost:8080/"
        },
        "outputId": "29ec20fa-4a7a-42ef-9e13-50b9c3512476"
      },
      "execution_count": 17,
      "outputs": [
        {
          "output_type": "stream",
          "name": "stdout",
          "text": [
            "Found 7650 images belonging to 19 classes.\n"
          ]
        }
      ]
    },
    {
      "cell_type": "code",
      "source": [
        "validation_set = valid_datagen.flow_from_directory(valid_path,\n",
        "                                                 target_size = Image_Size,\n",
        "                                                 batch_size =32,\n",
        "                                                 class_mode = 'categorical')"
      ],
      "metadata": {
        "id": "tdar_SodlHxG",
        "colab": {
          "base_uri": "https://localhost:8080/"
        },
        "outputId": "db4ea7f1-e050-4fa7-f37b-780ec08d0fab"
      },
      "execution_count": 18,
      "outputs": [
        {
          "output_type": "stream",
          "name": "stdout",
          "text": [
            "Found 948 images belonging to 19 classes.\n"
          ]
        }
      ]
    },
    {
      "cell_type": "code",
      "source": [
        "r = model.fit_generator(\n",
        "    training_set,\n",
        "    validation_data =validation_set,\n",
        "    epochs=10,\n",
        "    steps_per_epoch = len(training_set),\n",
        "    validation_steps = len(validation_set)\n",
        ")"
      ],
      "metadata": {
        "id": "ZuMhkT-rlLgU",
        "colab": {
          "base_uri": "https://localhost:8080/"
        },
        "outputId": "8e12120f-3dde-4df9-d548-ca95f3526ecb"
      },
      "execution_count": null,
      "outputs": [
        {
          "output_type": "stream",
          "name": "stderr",
          "text": [
            "<ipython-input-19-babd1c16d9ad>:1: UserWarning: `Model.fit_generator` is deprecated and will be removed in a future version. Please use `Model.fit`, which supports generators.\n",
            "  r = model.fit_generator(\n"
          ]
        },
        {
          "output_type": "stream",
          "name": "stdout",
          "text": [
            "Epoch 1/10\n",
            "128/240 [===============>..............] - ETA: 18:55 - loss: 1.5737 - accuracy: 0.4579"
          ]
        }
      ]
    },
    {
      "cell_type": "code",
      "source": [
        "acc = r.history['accuracy']\n",
        "val_acc = r.history['val_accuracy']\n",
        "loss = r.history['loss']\n",
        "val_loss = r.history['val_loss']\n",
        "\n",
        "epochs = range(1, len(acc) + 1)\n",
        "\n",
        "plt.plot(epochs, loss, label='Training loss')\n",
        "\n",
        "plt.plot(epochs, val_loss, label='Validation loss')\n",
        "plt.title('Training and validation loss')\n",
        "plt.xlabel('Epochs')\n",
        "plt.ylabel('Loss')\n",
        "plt.legend()\n",
        "\n",
        "plt.show()\n",
        "\n",
        "plt.plot(epochs, acc, label='Training accuracy')\n",
        "\n",
        "plt.plot(epochs, val_acc, label='Validation accuracy')\n",
        "plt.title('Training and validation Acuracy')\n",
        "plt.xlabel('Epochs')\n",
        "plt.ylabel('Acuracy')\n",
        "plt.legend()\n",
        "\n",
        "plt.show()"
      ],
      "metadata": {
        "id": "eESCDGxblOiv"
      },
      "execution_count": null,
      "outputs": []
    },
    {
      "cell_type": "code",
      "source": [
        "Test_path='/content/drive/MyDrive/ResearchAgument/split/test'"
      ],
      "metadata": {
        "id": "ziQ4LtIFEbFB"
      },
      "execution_count": null,
      "outputs": []
    },
    {
      "cell_type": "code",
      "source": [
        "test_datagen = ImageDataGenerator(rescale= 1./255)"
      ],
      "metadata": {
        "id": "bAW6PkYalVO-"
      },
      "execution_count": null,
      "outputs": []
    },
    {
      "cell_type": "code",
      "source": [
        "test_set = test_datagen.flow_from_directory(Test_path,\n",
        "                                                 target_size = Image_Size,\n",
        "                                                 batch_size =32,\n",
        "                                                 class_mode = 'categorical')"
      ],
      "metadata": {
        "id": "o7UHbtHIlaAz"
      },
      "execution_count": null,
      "outputs": []
    },
    {
      "cell_type": "code",
      "source": [
        "train_loss, train_acc = model.evaluate(training_set)\n",
        "test_loss, test_acc = model.evaluate(test_set)\n",
        "print(f'train_loss: {train_loss}')\n",
        "print(f'train_acc: {train_acc}')  \n",
        "print(f'test_loss: {test_loss}')\n",
        "print(f'test_acc: {test_acc}')"
      ],
      "metadata": {
        "id": "HIG9rr3FldO1"
      },
      "execution_count": null,
      "outputs": []
    },
    {
      "cell_type": "code",
      "source": [
        "print(f'Classification accuracy on test set is: {test_acc}')"
      ],
      "metadata": {
        "id": "_CEDBMl8lgLf"
      },
      "execution_count": null,
      "outputs": []
    }
  ]
}